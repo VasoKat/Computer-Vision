{
 "cells": [
  {
   "cell_type": "markdown",
   "metadata": {
    "id": "B7ef85hA0Wyp"
   },
   "source": [
    "# MΥΕ046 – Υπολογιστική Όραση: Άνοιξη 2023\n",
    "## 2η Σειρά Ασκήσεων: 25% του συνολικού βαθμού\n",
    "## Διδάσκων: Άγγελος Γιώτης\n",
    "- ΠΑΡΑΔΟΣΗ: **Σάββατο, 13 Μαΐου, 2023 23:59**"
   ]
  },
  {
   "cell_type": "markdown",
   "metadata": {
    "id": "k6KUaQXv0Wyu"
   },
   "source": [
    "# Γενικές Οδηγίες\n",
    "\n",
    "Απαντήστε στα παρακάτω ζητήματα χρησιμοποιώντας Python στο συνημμένο σημειωματάριο Jupyter και ακολουθήστε τις παρακάτω οδηγίες:\n",
    " \n",
    "- Οι ασκήσεις είναι **ατομικές** - δεν επιτρέπεται η μεταξύ σας συνεργασία για την υλοποίηση/παράδοσή τους.\n",
    "\n",
    "- Δεν επιτρέπεται να χρησιμοποιήσετε κώδικα που τυχόν θα βρείτε στο web (είτε αυτούσιο, είτε παραγόμενο από ΑΙ). Η χρήση κώδικα τρίτων θα έχει σαν αποτέλεσμα τον αυτόματο μηδενισμό σας.\n",
    "\n",
    "- Όλες οι λύσεις πρέπει να είναι γραμμένες σε αυτό το σημειωματάριο `Jupyter notebook`.\n",
    "\n",
    "- Ο κώδικάς σας πρέπει να σχολιαστεί εκτενώς.\n",
    "\n",
    "- Αφού ολοκληρώσετε (υλοποιήσετε και εκτελέσετε) τις απαντήσεις σας στο σημειωματάριο (notebook), εξαγάγετε το notebook ως PDF και υποβάλετε, τόσο το σημειωματάριο όσο και το PDF (δηλαδή τα αρχεία `.ipynb` και `.pdf`) στο `turnin` του μαθήματος, μαζί με ένα συνοδευτικό αρχείο `onoma.txt` που θα περιέχει το ον/μο σας και τον Α.Μ. σας.\n",
    "\n",
    "- Οι απαντήσεις θα παραδοθούν με την εντολή: **turnin assignment_2@mye046 onoma.txt assignment2.ipynb assignment2.pdf**\n",
    "\n",
    "- Μπορείτε να χρησιμοποιήσετε βασικά πακέτα γραμμικής άλγεβρας (π.χ. `NumPy`, `SciPy` κ.λπ.), αλλά δεν επιτρέπεται να χρησιμοποιείτε τα πακέτα/βιβλιοθήκες που επιλύουν άμεσα τα προβλήματα. Μη διστάσετε να ρωτήσετε τον διδάσκοντα εάν δεν είστε σίγουροι για τα πακέτα που θα χρησιμοποιήσετε.\n",
    "\n",
    "- Συνιστάται ιδιαίτερα να αρχίσετε να εργάζεστε στις ασκήσεις σας το συντομότερο δυνατό!\n",
    "\n",
    "**Late Policy:** Εργασίες που υποβάλλονται καθυστερημένα θα λαμβάνουν μείωση βαθμού 10% για κάθε 24 ώρες καθυστέρησης. Οι εργασίες δεν θα γίνονται δεκτές 72 ώρες (3 ημέρες) μετά την προθεσμία παράδοσης. Για παράδειγμα, παράδοση της εργασίας 2 ημέρες μετά την προθεσμία βαθμολογείται με άριστα το 20 (από 25)."
   ]
  },
  {
   "cell_type": "markdown",
   "metadata": {
    "id": "cm3FG3yz0Wyv"
   },
   "source": [
    "## Άσκηση 1: Φιλτράρισμα Εικόνας (image filtering) [10 μονάδες]\n",
    "\n",
    "### Ζήτημα 1.1 Υλοποίηση συνέλιξης[6 μονάδες]\n",
    "\n",
    "\n",
    "Σε αυτό το πρόβλημα, θα υλοποιήσετε τη λειτουργία φιλτραρίσματος συνέλιξης χρησιμοποιώντας συναρτήσεις της βιβλιοθήκης NumPy, αλλά χωρίς να χρησιμοποιήσετε συναρτήσεις που λύνουν απευθείας το πρόβλημα, όπως η συνάρτηση συνέλιξης \"numpy.convolve\".\n",
    "\n",
    "Όπως έχουμε δει και στο μάθημα, η συνέλιξη μπορεί να θεωρηθεί ως ένα κυλιόμενο παράθυρο που υπολογίζει ένα άθροισμα των τιμών των pixel που σταθμίζονται από τον αναποδογυρισμένο πυρήνα (a sum of pixel values weighted by the flipped kenrel).\n",
    "\n",
    "Η έκδοσή σας θα πρέπει: i) να συμπληρώσει μια εικόνα με μηδενικά στα άκρα της εικόνας - zero-padding (επάνω-κάτω, δεξιά-αριστερά), ii) να αναστρέψει (flip) τον πυρήνα της συνέλιξης οριζόντια και κάθετα, και iii) να υπολογίσει ένα σταθμισμένο άθροισμα της γειτονιάς σε κάθε pixel."
   ]
  },
  {
   "cell_type": "markdown",
   "metadata": {},
   "source": [
    "#### Ζήτημα 1.1.1  [1 μονάδα]\n",
    "Πρώτα θα χρειαστεί να υλοποιήσετε τη συνάρτηση **zero_pad**."
   ]
  },
  {
   "cell_type": "code",
   "execution_count": null,
   "metadata": {
    "id": "CXSBOp31DgyB"
   },
   "outputs": [],
   "source": [
    "import numpy as np\n",
    "from time import time\n",
    "from skimage import io\n",
    "%matplotlib inline\n",
    "import matplotlib.pyplot as plt"
   ]
  },
  {
   "cell_type": "code",
   "execution_count": null,
   "metadata": {
    "colab": {
     "base_uri": "https://localhost:8080/",
     "height": 232
    },
    "id": "yGaGnlrrDWLa",
    "outputId": "4d2edf87-35a1-4629-b760-9ae4762a55ac"
   },
   "outputs": [],
   "source": [
    "def zero_pad(image, pad_top, pad_down, pad_left, pad_right):\n",
    "    \"\"\" Zero-pad an image.\n",
    "\n",
    "    Ex: a 1x1 image [[1]] with pad_top = 1, pad_down = 1, pad_left = 2, pad_right = 2 becomes:\n",
    "\n",
    "        [[0, 0, 0, 0, 0],\n",
    "         [0, 0, 1, 0, 0],\n",
    "         [0, 0, 0, 0, 0]]         of shape (3, 5)\n",
    "\n",
    "    Args:\n",
    "        image: numpy array of shape (H, W)\n",
    "        pad_left: width of the zero padding to the left of the first column\n",
    "        pad_right: width of the zero padding to the right of the last column\n",
    "        pad_top: height of the zero padding above the first row\n",
    "        pad_down: height of the zero padding below the last row\n",
    "\n",
    "    Returns:\n",
    "        out: numpy array of shape (H + pad_top + pad_down, W + pad_left + pad_right)\n",
    "    \"\"\"\n",
    "    \"\"\" ==========\n",
    "    YOUR CODE HERE\n",
    "    ========== \"\"\"\n",
    "    \n",
    "\n",
    "    return out\n",
    "\n",
    "# Open image as grayscale\n",
    "img = io.imread('images/dog.jpg', as_gray=True)\n",
    "\n",
    "# Show image\n",
    "plt.imshow(img,cmap='gray')\n",
    "plt.axis('off')\n",
    "plt.show()\n",
    "\n",
    "pad_width = 20 # width of the padding on the left and right\n",
    "pad_height = 40 # height of the padding on the top and bottom\n",
    "\n",
    "padded_img = zero_pad(img, pad_height, pad_height, pad_width, pad_width)\n",
    "\n",
    "# Plot your padded dog\n",
    "plt.subplot(1,2,1)\n",
    "plt.imshow(padded_img,cmap='gray')\n",
    "plt.title('Padded dog')\n",
    "plt.axis('off')\n",
    "\n",
    "# Plot what you should get\n",
    "solution_img = io.imread('images/padded_dog.jpg', as_gray=True)\n",
    "plt.subplot(1,2,2)\n",
    "plt.imshow(solution_img,cmap='gray')\n",
    "plt.title('What you should get')\n",
    "plt.axis('off')\n",
    "\n",
    "plt.show()"
   ]
  },
  {
   "cell_type": "markdown",
   "metadata": {
    "tags": []
   },
   "source": [
    "#### Ζήτημα 1.1.2 [3 μονάδες]\n",
    "Τώρα υλοποιήστε τη συνάρτηση **`conv`**, **χρησιμοποιώντας το πολύ 2 βρόχους επανάληψης**. Αυτή η συνάρτηση θα πρέπει να δέχεται μια εικόνα $f$ και έναν πυρήνα/φίλτρο $h$ ως εισόδους και να εξάγει το αποτέλεσμα της συνέλιξης (προκύπτουσα εικόνα) $(f*h)$ που έχει το **ίδιο** σχήμα (διαστάσεις) με την εικόνα εισόδου (χρησιμοποιήστε συμπλήρωση μηδενικών - zero padding, για να το πετύχετε). Θα θεωρήσουμε πως χρησιμοποιούμε μόνο πυρήνες με περιττό πλάτος και περιττό ύψος. Ανάλογα με τον υπολογιστή, η υλοποίησή σας θα χρειαστεί περίπου ένα δευτερόλεπτο ή λιγότερο για να εκτελεστεί.\n",
    "\n",
    "Υπόδειξη: Για να έχει το αποτέλεσμα της συνέλιξης $g(x,y) = h(x,y) * f(x,y)$ το **ίδιο σχήμα** με την εικόνα εισόδου $f$, θα πρέπει οι διαστάσεις της συμπληρωμένης (με μηδενικά) εικόνας \"padded_$f$\" να είναι $P = A + C - 1$ και $Q = B + D - 1$, όπου $A, Β:height, width$ της εικόνας $f$, ενώ $C, D:height, width$, του πυρήνα $h$."
   ]
  },
  {
   "cell_type": "code",
   "execution_count": null,
   "metadata": {},
   "outputs": [],
   "source": [
    "def conv(image, kernel):\n",
    "    \"\"\" An efficient implementation of a convolution filter.\n",
    "\n",
    "    This function uses element-wise multiplication and np.sum()\n",
    "    to efficiently compute a weighted sum of the neighborhood at each\n",
    "    pixel.\n",
    "\n",
    "    Hints:\n",
    "        - Use the zero_pad function you implemented above\n",
    "        - You should need at most two nested for-loops\n",
    "        - You may find np.flip() and np.sum() useful\n",
    "        - You need to handle both odd and even kernel size\n",
    "\n",
    "    Args:\n",
    "        image: numpy array of shape (Hi, Wi)\n",
    "        kernel: numpy array of shape (Hk, Wk)\n",
    "\n",
    "    Returns:\n",
    "        out: numpy array of shape (Hi, Wi)\n",
    "    \"\"\"\n",
    "    Hi, Wi = image.shape\n",
    "    Hk, Wk = kernel.shape\n",
    "    out = np.zeros((Hi, Wi))\n",
    "\n",
    "    \"\"\" ==========\n",
    "    YOUR CODE HERE\n",
    "    ========== \"\"\"\n",
    "    \n",
    "\n",
    "    return out\n",
    "\n",
    "# Simple convolution kernel.\n",
    "kernel = np.array(\n",
    "[\n",
    "    [1,0,-1],\n",
    "    [2,0,-2],\n",
    "    [1,0,-1]\n",
    "])\n",
    "\n",
    "t1 = time()\n",
    "out = conv(img, kernel)\n",
    "t2 = time()\n",
    "print(\"took %f seconds.\" % (t2 - t1))\n",
    "\n",
    "# Plot original image\n",
    "plt.subplot(2,2,1)\n",
    "plt.imshow(img,cmap='gray')\n",
    "plt.title('Original')\n",
    "plt.axis('off')\n",
    "\n",
    "# Plot your convolved image\n",
    "plt.subplot(2,2,3)\n",
    "plt.imshow(out,cmap='gray')\n",
    "\n",
    "plt.title('Convolution')\n",
    "plt.axis('off')\n",
    "\n",
    "# Plot what you should get\n",
    "solution_img = io.imread('images/convolved_dog.jpg', as_gray=True)\n",
    "plt.subplot(2,2,4)\n",
    "plt.imshow(solution_img,cmap='gray')\n",
    "plt.title('What you should get')\n",
    "plt.axis('off')\n",
    "\n",
    "plt.show()"
   ]
  },
  {
   "cell_type": "markdown",
   "metadata": {},
   "source": [
    "#### Ζήτημα 1.1.3 [1 μονάδα]\n",
    "Τώρα ας φιλτράρουμε μερικές εικόνες! Σε αυτό το ζήτημα, θα εφαρμόσετε τη συνάρτηση συνέλιξης που μόλις υλοποιήσατε για να δημιουργήσετε μερικά ενδιαφέροντα εφέ εικόνας. Πιο συγκεκριμένα, θα χρησιμοποιήσετε συνέλιξη για να \"θολώσετε\" (blur) και να \"οξύνετε\" (sharpen) την εικόνα.\n",
    "\n",
    "Αρχικά, θα εφαρμόσετε συνέλιξη για θόλωση εικόνας. Για να το πετύχετε αυτό, πραγματοποιήστε συνέλιξη της εικόνας του σκύλου με ένα Γκαουσιανό φίλτρο 13x13 για $\\sigma = 2,0$. Μπορείτε να χρησιμοποιήσετε τη συνάρτηση που σας δίνετε για να πάρετε τον Γκαουσιανό πυρήνα της συνέλιξης."
   ]
  },
  {
   "cell_type": "code",
   "execution_count": null,
   "metadata": {},
   "outputs": [],
   "source": [
    "def gaussian2d(sig):\n",
    "    \"\"\"\n",
    "    Creates 2D Gaussian kernel with a sigma of `sig`.\n",
    "    \"\"\"\n",
    "    filter_size = int(sig * 6)\n",
    "    if filter_size % 2 == 0:\n",
    "        filter_size += 1\n",
    "        \n",
    "    ax = np.arange(-filter_size // 2 + 1., filter_size // 2 + 1.)\n",
    "    xx, yy = np.meshgrid(ax, ax)\n",
    "    kernel = np.exp(-0.5 * (np.square(xx) + np.square(yy)) / np.square(sig))\n",
    "    return kernel / np.sum(kernel)\n",
    "\n",
    "def blur_image(img):\n",
    "    \"\"\"Blur the image by convolving with a Gaussian filter.\"\"\"\n",
    "    blurred_img = np.zeros_like(img)\n",
    "    \"\"\" ==========\n",
    "    YOUR CODE HERE\n",
    "    ========== \"\"\"\n",
    "    \n",
    "    \n",
    "    return blurred_img\n",
    "\n",
    "# Plot original image\n",
    "plt.subplot(2,2,1)\n",
    "plt.imshow(img,cmap='gray')\n",
    "plt.title('Original')\n",
    "plt.axis('off')\n",
    "\n",
    "# Plot blurred image\n",
    "plt.subplot(2,2,2)\n",
    "plt.imshow(blur_image(img),cmap='gray')\n",
    "plt.title('Blurred')\n",
    "plt.axis('off')\n",
    "\n",
    "plt.show()"
   ]
  },
  {
   "cell_type": "markdown",
   "metadata": {},
   "source": [
    "#### Ζήτημα 1.1.4 [1 μονάδα]\n",
    "Στη συνέχεια, θα χρησιμοποιήσουμε τη συνέλιξη για την όξυνση (αύξηση ευκρίνειας) των εικόνων. Πραγματοποιήστε συνέλιξη της εικόνας με το ακόλουθο φίλτρο για να δημιουργήσετε ένα πιο ευκρινές αποτέλεσμα. Για ευκολία, σας δίνετε και το φίλτρο όξυνσης:\n"
   ]
  },
  {
   "cell_type": "code",
   "execution_count": null,
   "metadata": {},
   "outputs": [],
   "source": [
    "sharpening_kernel = np.array([\n",
    "    [1, 4,     6,  4, 1],\n",
    "    [4, 16,   24, 16, 4],\n",
    "    [6, 24, -476, 24, 6],\n",
    "    [4, 16,   24, 16, 4],\n",
    "    [1,  4,    6,  4, 1],\n",
    "]) * -1.0 / 256.0"
   ]
  },
  {
   "cell_type": "code",
   "execution_count": null,
   "metadata": {},
   "outputs": [],
   "source": [
    "def sharpen_image(img):\n",
    "    \"\"\"Sharpen the image by convolving with a sharpening filter.\"\"\"\n",
    "    sharpened_img = np.zeros_like(img)\n",
    "    \"\"\" ==========\n",
    "    YOUR CODE HERE\n",
    "    ========== \"\"\"\n",
    "   \n",
    "    \n",
    "    return sharpened_img\n",
    "\n",
    "# Plot original image\n",
    "plt.subplot(2,2,1)\n",
    "plt.imshow(img, vmin=0.0, vmax=1.0,cmap='gray')\n",
    "plt.title('Original')\n",
    "plt.axis('off')\n",
    "\n",
    "# Plot sharpened image\n",
    "plt.subplot(2,2,2)\n",
    "plt.imshow(sharpen_image(img), vmin=0.0, vmax=1.0,cmap='gray')\n",
    "plt.title('Sharpened')\n",
    "plt.axis('off')\n",
    "\n",
    "plt.show()"
   ]
  },
  {
   "cell_type": "markdown",
   "metadata": {},
   "source": [
    "### Ζήτημα 1.2 Αντιστοίχιση/Ταίριασμα Προτύπου (Template Matching) [4 μονάδες]\n",
    "Υποθέτουμε το παρακάτω πρόβλημα. Έστω ένας υπάλληλος κάποιου καταστήματος super market είναι υπεύθυνος για τον περιοδικό έλεχγο των ραφιών, με σκοπό την αναπλήρωσή τους με προϊόντα που έχουν εξαντληθεί/πωληθεί (restocking sold-out items). Σε αυτή την περίπτωση, η ανάπτυξη μιας εφαρμογής υπολογιστικής όρασης, η οποία θα \"βλέπει\" και θα καταγράφει σε πραγματικό χρόνο τα προϊόντα στα ράφια θα μπορούσε να αυτοματοποιήσει τη δουλειά του υπαλλήλου.\n",
    "\n",
    "Ευτυχώς, κάτι τέτοιο μπορεί να επιλυθεί ακόμη και με πρωταρχικές τεχνικές ψηφιακής επεξεργασίας εικόνας που βασίζονται στη συνέλιξη, η οποία μπορεί να αξιοποιηθεί για την αντιστοίχιση μιας εικόνας με κάποιο πρότυπο (template matching):\n",
    "\n",
    "- Ένα αναποδογυρισμένο (flipped) πρότυπο *t* πολλαπλασιάζεται με τις περιοχές μιας μεγαλύτερης εικόνας *f* για να υπολογιστεί πόσο παρόμοια είναι κάθε περιοχή με το πρότυπο (πόσο μοιάζει κάθε περιοχή με την εικόνα προτύπου). Σημειώστε, ότι θα πρέπει να αναστρέψετε το φίλτρο πριν το δώσετε στη συνάρτηση συνέλιξης, έτσι ώστε συνολικά να μην είναι αναποδογυρισμένο όταν κάνετε συγκρίσεις.\n",
    "\n",
    "- Επίσης, Θα χρειαστεί να αφαιρέσετε τη μέση τιμή της εικόνας ή του προτύπου (όποια και αν επιλέξετε, αφαιρέστε την ίδια τιμή, τόσο από την εικόνα όσο και από το πρότυπο) έτσι ώστε η λύση σας να μην είναι ευαίσθητη προς τις περιοχές υψηλότερης έντασης (λευκές).\n",
    "\n",
    "- Δοκιμάστε να εκτελέσετε αρχικά τη συνέλιξη του ανεστραμμένου πυρήνα (προτύπου) με την εικόνα, χωρίς να αφαιρέσετε τη μέση τιμή και δείτε την ευαισθησία του αποτελέσματος σε περιοχές υψηλότερης έντασης. Εξηγείστε (σε σχόλια) γιατί η αφαίρεση της μέσης τιμής (και από τις 2 εικόνες) αντιμετωπίζει το πρόβλημα, κάνοντας τη λύση σας ανθεκτική σε περιοχές υψηλής έντασης.\n",
    "\n",
    "- Παρέχεται το πρότυπο ενός προϊόντος (template.jpg) και η εικόνα του ραφιού (shelf.jpg). Θα χρησιμοποιήσετε συνέλιξη για να βρείτε το προϊόν στο ράφι.\n"
   ]
  },
  {
   "cell_type": "code",
   "execution_count": null,
   "metadata": {},
   "outputs": [],
   "source": [
    "# Load template and image in grayscale\n",
    "img = io.imread('images/shelf.jpg')\n",
    "img_gray = io.imread('images/shelf.jpg', as_gray=True)\n",
    "temp = io.imread('images/template.jpg')\n",
    "temp_gray = io.imread('images/template.jpg', as_gray=True)\n",
    "\n",
    "# Perform a convolution between the image (grayscale) and the template (grayscale) and store \n",
    "# the result in the out variable\n",
    "\"\"\" ==========\n",
    "YOUR CODE HERE\n",
    "========== \"\"\"\n",
    "\n",
    "# Find the (x, y) coordinates of the maximum value in the out variable\n",
    "\"\"\" ==========\n",
    "YOUR CODE HERE\n",
    "========== \"\"\"\n",
    "\n",
    "# Display product template\n",
    "plt.figure(figsize=(20,16))\n",
    "plt.subplot(3, 1, 1)\n",
    "plt.imshow(temp_gray, cmap=\"gray\")\n",
    "plt.title('Template')\n",
    "plt.axis('off')\n",
    "\n",
    "# Display convolution output\n",
    "plt.subplot(3, 1, 2)\n",
    "plt.imshow(out, cmap=\"gray\")\n",
    "plt.title('Convolution output (white means more correlated)')\n",
    "plt.axis('off')\n",
    "\n",
    "# Display image\n",
    "plt.subplot(3, 1, 3)\n",
    "plt.imshow(img, cmap=\"gray\")\n",
    "plt.title('Result (blue marker on the detected location)')\n",
    "plt.axis('off')\n",
    "\n",
    "# Draw marker at detected location\n",
    "plt.plot(x, y, 'bx', ms=35, mew=5)\n",
    "plt.show()"
   ]
  },
  {
   "cell_type": "markdown",
   "metadata": {},
   "source": [
    "## Άσκηση 2: Ανίχνευση Ακμών (Edge detection) [15 μονάδες]\n",
    "\n",
    "Σε αυτό το πρόβλημα, θα υλοποιήσετε τα βήματα του ανιχνευτή ακμών \"Canny\". Πρέπει να ακολουθήσετε τα βήματα με τη σειρά που σας δίνετε."
   ]
  },
  {
   "cell_type": "markdown",
   "metadata": {},
   "source": [
    "### Ζήτημα 2.1 Εξομάλυνση (Smoothing) [1 μονάδα]\n",
    "Αρχικά, πρέπει να εξομαλύνουμε τις εικόνες για να αποτρέψουμε τον θόρυβο να θεωρηθεί ως ακμές. Για αυτήν την άσκηση, χρησιμοποιήστε ένα φίλτρο Γκαουσιανού πυρήνα (Gaussian) 9x9 με $\\sigma = 1,5$ για να εξομαλύνετε τις εικόνες."
   ]
  },
  {
   "cell_type": "code",
   "execution_count": null,
   "metadata": {},
   "outputs": [],
   "source": [
    "import numpy as np\n",
    "from skimage import io\n",
    "import matplotlib.pyplot as plt\n",
    "import matplotlib.cm as cm\n",
    "from scipy.signal import convolve\n",
    "%matplotlib inline\n",
    "\n",
    "import matplotlib\n",
    "matplotlib.rcParams['figure.figsize'] = [5, 5]"
   ]
  },
  {
   "cell_type": "code",
   "execution_count": null,
   "metadata": {},
   "outputs": [],
   "source": [
    "def gaussian2d(sig=None):\n",
    "    \"\"\"Creates a 2D Gaussian kernel with\n",
    "    side length `filter_size` and a sigma of `sig`.\"\"\"\n",
    "    filter_size = int(sig * 6)\n",
    "    if filter_size % 2 == 0:\n",
    "        filter_size += 1\n",
    "        \n",
    "    ax = np.arange(-filter_size // 2 + 1., filter_size // 2 + 1.)\n",
    "    xx, yy = np.meshgrid(ax, ax)\n",
    "    kernel = np.exp(-0.5 * (np.square(xx) + np.square(yy)) / np.square(sig))\n",
    "    return kernel / np.sum(kernel)"
   ]
  },
  {
   "cell_type": "code",
   "execution_count": null,
   "metadata": {},
   "outputs": [],
   "source": [
    "def smooth(image):\n",
    "    \"\"\" ==========\n",
    "    YOUR CODE HERE\n",
    "    ========== \"\"\"\n",
    "    "
   ]
  },
  {
   "cell_type": "code",
   "execution_count": null,
   "metadata": {},
   "outputs": [],
   "source": [
    "# Load image in grayscale\n",
    "image = io.imread('images/canny.jpg', as_gray=True)\n",
    "assert len(image.shape) == 2, 'image should be grayscale; check your Python/skimage versions'\n",
    "smoothed = smooth(image)\n",
    "print('Original:')\n",
    "plt.imshow(image, cmap=cm.gray)\n",
    "plt.show()\n",
    "\n",
    "print('Smoothed:')\n",
    "plt.imshow(smoothed, cmap=cm.gray)\n",
    "plt.show()"
   ]
  },
  {
   "cell_type": "markdown",
   "metadata": {},
   "source": [
    "### Ζήτημα 2.2 Υπολογισμός Παραγώγου (Gradient Computation [4 μονάδες]\n",
    "Αφού ολοκληρώσετε την εξομάλυνση, βρείτε την παράγωγο/κλίση της εικόνας στην οριζόντια και κάθετη κατεύθυνση. Υπολογίστε την εικόνα του μέτρου (μεγέθους) κλίσης (gradient magnitude) ως $|G| = \\sqrt{G_x^2 + G_y^2}$. Η κατεύθυνση της ακμής για κάθε pixel δίνεται από την εξίσωση $G_\\theta = \\tan^{-1}\\left(\\frac{G_y}{G_x}\\right)$."
   ]
  },
  {
   "cell_type": "code",
   "execution_count": null,
   "metadata": {},
   "outputs": [],
   "source": [
    "def gradient(image):\n",
    "    \"\"\" ==========\n",
    "    YOUR CODE HERE\n",
    "    ========== \"\"\"\n",
    "    \n",
    "    return g_mag, g_theta"
   ]
  },
  {
   "cell_type": "code",
   "execution_count": null,
   "metadata": {},
   "outputs": [],
   "source": [
    "g_mag, g_theta = gradient(smoothed)\n",
    "print('Gradient magnitude:')\n",
    "plt.imshow(g_mag, cmap=cm.gray)\n",
    "plt.show()"
   ]
  },
  {
   "cell_type": "markdown",
   "metadata": {},
   "source": [
    "### Ζήτημα 2.3 Καταστολή μη-μεγίστων (Non-Maximum Suppression) [5 μονάδες]\n",
    "Θα θέλαμε οι ακμές μας να είναι ευκρινείς (sharp), σε αντίθεση με αυτές στην εικόνα ντεγκραντέ (gradient image). Χρησιμοποιήστε καταστολή μη-μεγίστων για να διατηρήσετε όλα τα τοπικά μέγιστα και απορρίψτε τα υπόλοιπα. Μπορείτε να χρησιμοποιήσετε την ακόλουθη μέθοδο για να το κάνετε:\n",
    "\n",
    "  - Για κάθε εικονοστοιχείο στην εικόνα του μέτρου (μεγέθους) της κλίσης (gradient magnitude image):\n",
    "    - Στρογγυλοποιήστε την κατεύθυνση της κλίσης $\\theta$ στο πλησιέστερο πολλαπλάσιο των $45^{\\circ}$ (το οποίο θα αναφέρουμε ως $ve$).\n",
    "    - Συγκρίνετε την ισχύ της ακμής (edge strength) στο τρέχον εικονοστοιχείο (δηλαδή το μέτρο της κλίσης) με τα εικονοστοιχεία κατά μήκος της κατεύθυνσης κλίσης $+ve$ και $-ve$ στην 8-γειτονιά του (8-connected pixel neighborhood).\n",
    "    - Εάν το εικονοστοιχείο δεν έχει μεγαλύτερη τιμή από τους δύο γείτονές του στις κατευθύνσεις κλίσης $+ve$ και $-ve$, καταργήστε (suppress) την τιμή του εικονοστοιχείου (ορίστε το σε 0). Ακολουθώντας αυτή τη διαδικασία, διατηρούμε τις τιμές μόνο εκείνων των pixel που έχουν μέγιστα μεγέθη κλίσης στη γειτονιά κατά μήκος των κατευθύνσεων κλίσης $+ve$ και $-ve$.\n",
    "  - Επιστρέψτε το αποτέλεσμα ως την εικόνα-απόκριση της καταστολής μη-μεγίστων (NMS)."
   ]
  },
  {
   "cell_type": "code",
   "execution_count": null,
   "metadata": {},
   "outputs": [],
   "source": [
    "def nms(g_mag, g_theta):\n",
    "    \"\"\" ==========\n",
    "    YOUR CODE HERE\n",
    "    ========== \"\"\"\n",
    "    \n",
    "\n",
    "    return nms_response"
   ]
  },
  {
   "cell_type": "code",
   "execution_count": null,
   "metadata": {},
   "outputs": [],
   "source": [
    "nms_image = nms(g_mag, g_theta)\n",
    "print('NMS:')\n",
    "plt.imshow(nms_image, cmap=cm.gray)\n",
    "plt.show()"
   ]
  },
  {
   "cell_type": "markdown",
   "metadata": {},
   "source": [
    "### Ζήτημα 2.4 Κατωφλίωση Υστέρησης (Hysteresis Thresholding) [5 μονάδες]\n",
    "Επιλέξτε κατάλληλες τιμές κατωφλίων και χρησιμοποιήστε την προσέγγιση κατωφλίου που περιγράφεται στη διάλεξη 5. Αυτό θα αφαιρέσει τις ακμές που προκαλούνται από το θόρυβο και τις χρωματικές διαφοροποιήσεις. Μπορείτε να ανατρέξετε και σε άλλες πηγές (βιβλιογραφία, διαδίκτυο) για περισσότερες πληροφορίες στην προσέγγιση κατωφλίου.\n",
    "\n",
    "  - Ορίστε δύο κατώφλια `t_min` και `t_max`.\n",
    "  - Εάν το `nms > t_max`, τότε επιλέγουμε αυτό το pixel ως ακμή.\n",
    "  - Εάν `nms < t_min`, απορρίπτουμε αυτό το pixel.\n",
    "  - Αν `t_min < nms < t_max`, επιλέγουμε το pixel μόνο αν υπάρχει διαδρομή από/προς άλλο pixel με `nms > t_max`. (Υπόδειξη: Σκεφτείτε όλα τα pixel με `nms > t_max` ως σημεία έναρξης/εκκίνησης και εκτελέστε αναζήτηση BFS/DFS από αυτά τα σημεία εκκίνησης).\n",
    "  - Η επιλογή της τιμής των χαμηλών και υψηλών κατωφλίων εξαρτάται από το εύρος των τιμών στην εικόνα μεγέθους κλίσης (gradient magnitude image). Μπορείτε να ξεκινήσετε ορίζοντας το υψηλό κατώφλι σε κάποιο ποσοστό της μέγιστης τιμής στην εικόνα μεγέθους ντεγκραντέ (gradient magnitude image), π.χ. `thres_high = 0,2 * image.max()`, και το χαμηλό όριο σε κάποιο ποσοστό του υψηλού ορίου, π.χ. `thres_low = 0,85 * thres_high`. Έπειτα, μπορείτε να συντονίσετε/τροποποιήσετε (tune) αυτές τις τιμές όπως θέλετε."
   ]
  },
  {
   "cell_type": "code",
   "execution_count": null,
   "metadata": {},
   "outputs": [],
   "source": [
    "def hysteresis_threshold(image, g_theta, use_g_theta=False):\n",
    "    \"\"\" ==========\n",
    "    YOUR CODE HERE\n",
    "    ========== \"\"\"\n",
    "    \n",
    "\n",
    "    return result"
   ]
  },
  {
   "cell_type": "code",
   "execution_count": null,
   "metadata": {},
   "outputs": [],
   "source": [
    "thresholded = hysteresis_threshold(nms_image, g_theta)\n",
    "print('Thresholded:')\n",
    "plt.imshow(thresholded, cmap=cm.gray)\n",
    "plt.show()"
   ]
  },
  {
   "cell_type": "markdown",
   "metadata": {},
   "source": [
    "## Οδηγίες υποβολής\n",
    "\n",
    "Μην ξεχάσετε να κάνετε turnin **τόσο** το αρχείο Jupyter notebook όσο και το PDF αρχείο αυτού του notebook μαζί με το συνοδευτικό αρχείο `onoma.txt`:\n",
    "**turnin  assignment_2@mye046  onoma.txt  assignment2.ipynb  assignment2.pdf**\n",
    "\n",
    "Βεβαιωθείτε ότι το περιεχόμενο σε **κάθε κελί εμφανίζεται** καθαρά στο τελικό σας αρχείο PDF.\n",
    "Για να μετατρέψετε το σημειωματάριο σε PDF, μπορείτε να επιλέξετε **έναν** από τους παρακάτω τρόπους:\n",
    "\n",
    "1. Google Collab (Συνιστάται): You can `print` the web page and save as PDF (e.g. Chrome: Right click the web page $\\rightarrow$ Print... $\\rightarrow$ Choose \"Destination: Save as PDF\" and click \"Save\"). Προσοχή στην περίπτωση όπου κώδικας/σχόλια εμφανίζονται εκτός των ορίων της σελίδας. Μια λύση είναι η αλλαγή γραμμής π.χ. σε σχόλια που υπερβαίνουν το πλάτος της σελίδας.\n",
    "\n",
    "2. Local Jupyter/JupyterLab(Συνιστάται): You can `print` the web page and save as PDF (File $\\rightarrow$ Print... $\\rightarrow$ Choose \"Destination: Save as PDF\" and click \"Save\"). Προσοχή στην περίπτωση όπου κώδικας/σχόλια εμφανίζονται εκτός των ορίων της σελίδας. Μια λύση είναι η αλλαγή γραμμής π.χ. σε σχόλια που υπερβαίνουν το πλάτος της σελίδας.\n",
    "\n",
    "3. Local Jupyter/JupyterLab(Συνιστάται!): You can `export` and save as HTML (File $\\rightarrow$ Save & Export Notebook as... $\\rightarrow$ HTML). Στη συνέχεια μπορείτε να μετατρέψεται το HTML αρχείο αποθηκεύοντάς το ως PDF μέσω ενός browser."
   ]
  }
 ],
 "metadata": {
  "colab": {
   "name": "HW2.ipynb",
   "provenance": []
  },
  "kernelspec": {
   "display_name": "Python 3 (ipykernel)",
   "language": "python",
   "name": "python3"
  },
  "language_info": {
   "codemirror_mode": {
    "name": "ipython",
    "version": 3
   },
   "file_extension": ".py",
   "mimetype": "text/x-python",
   "name": "python",
   "nbconvert_exporter": "python",
   "pygments_lexer": "ipython3",
   "version": "3.10.9"
  }
 },
 "nbformat": 4,
 "nbformat_minor": 4
}
